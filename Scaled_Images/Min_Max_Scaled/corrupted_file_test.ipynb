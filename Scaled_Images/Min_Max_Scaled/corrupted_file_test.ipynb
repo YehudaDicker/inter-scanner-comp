{
 "cells": [
  {
   "cell_type": "code",
   "execution_count": 1,
   "metadata": {},
   "outputs": [],
   "source": [
    "import os\n",
    "import glob\n",
    "import gzip\n",
    "import nibabel as nib\n",
    "from sklearn.preprocessing import MinMaxScaler\n",
    "import numpy as np"
   ]
  },
  {
   "cell_type": "code",
   "execution_count": 4,
   "metadata": {},
   "outputs": [
    {
     "name": "stdout",
     "output_type": "stream",
     "text": [
      "Original data shape: (240, 240, 155) Type: float64\n",
      "Original data statistics - Mean: 32.89831117734598 Std: 77.47626006501665\n",
      "Scaled data statistics - Mean: 0.03468872268065558 Std: 0.0816927192779537\n"
     ]
    },
    {
     "data": {
      "text/plain": [
       "<nibabel.nifti1.Nifti1Image at 0x7fd8b04d0b50>"
      ]
     },
     "execution_count": 4,
     "metadata": {},
     "output_type": "execute_result"
    }
   ],
   "source": [
    "\n",
    "img = nib.load('/Users/yehudadicker/Downloads/ABGN_2015.02.27_flair_LPS_rSRI_SSFinal_N3_sus.nii')\n",
    "data = img.get_fdata()\n",
    "print(\"Original data shape:\", data.shape, \"Type:\", data.dtype)\n",
    "print(\"Original data statistics - Mean:\", np.mean(data), \"Std:\", np.std(data))\n",
    "\n",
    "scaled_data = MinMaxScaler().fit_transform(data.reshape(-1, 1)).reshape(data.shape)\n",
    "print(\"Scaled data statistics - Mean:\", np.mean(scaled_data), \"Std:\", np.std(scaled_data))\n",
    "\n",
    "scaled_img = nib.Nifti1Image(scaled_data, affine=img.affine)\n",
    "scaled_img"
   ]
  },
  {
   "cell_type": "code",
   "execution_count": null,
   "metadata": {},
   "outputs": [],
   "source": []
  }
 ],
 "metadata": {
  "kernelspec": {
   "display_name": "base",
   "language": "python",
   "name": "python3"
  },
  "language_info": {
   "codemirror_mode": {
    "name": "ipython",
    "version": 3
   },
   "file_extension": ".py",
   "mimetype": "text/x-python",
   "name": "python",
   "nbconvert_exporter": "python",
   "pygments_lexer": "ipython3",
   "version": "3.9.7"
  }
 },
 "nbformat": 4,
 "nbformat_minor": 2
}
