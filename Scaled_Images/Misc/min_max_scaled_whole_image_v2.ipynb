{
 "cells": [
  {
   "cell_type": "code",
   "execution_count": 1,
   "metadata": {},
   "outputs": [],
   "source": [
    "import numpy as np\n",
    "import nibabel as nib\n",
    "import os\n",
    "import matplotlib.pyplot as plt\n",
    "import glob\n",
    "import gzip\n",
    "import shutil\n",
    "from sklearn.preprocessing import MinMaxScaler, RobustScaler"
   ]
  },
  {
   "cell_type": "code",
   "execution_count": 15,
   "metadata": {},
   "outputs": [],
   "source": [
    "def extract_gz_file(gz_file, output_file):\n",
    "    if not os.path.exists(output_file):\n",
    "        with gzip.open(gz_file, 'rb') as f_in:\n",
    "            with open(output_file, 'wb') as f_out:\n",
    "                shutil.copyfileobj(f_in, f_out)\n",
    "                \n",
    "def scale_whole_image(input_file, output_dir, scaler):\n",
    "    try:\n",
    "        #print(input_file)\n",
    "        img = nib.load(input_file)\n",
    "        data = img.get_fdata()\n",
    "\n",
    "        #print(\"Original data shape:\", data.shape, \"Type:\", data.dtype)\n",
    "        #print(\"Original data statistics - Mean:\", np.mean(data), \"Std:\", np.std(data))\n",
    "\n",
    "        # Treat each voxel as a sample and the intensity as the feature\n",
    "        reshaped_data = data.reshape(-1, 1)  # Flatten the image into 2D for scaling\n",
    "        scaled_data_reshaped = scaler.fit_transform(reshaped_data)\n",
    "\n",
    "        # Reshape the scaled data back to its original 3D shape\n",
    "        scaled_data = scaled_data_reshaped.reshape(data.shape)\n",
    "\n",
    "        #print(\"Scaler parameters:\", scaler.get_params())\n",
    "        #print(\"Scaled data statistics - Mean:\", np.mean(scaled_data), \"Std:\", np.std(scaled_data))\n",
    "\n",
    "        scaled_img = nib.Nifti1Image(scaled_data, affine=img.affine)\n",
    "        scaled_file_name = os.path.join(output_dir, os.path.basename(input_file).replace('.nii', '_scaled.nii.gz'))\n",
    "        nib.save(scaled_img, scaled_file_name)\n",
    "    except Exception as e:\n",
    "        print(f\"Error processing file {input_file}: {e}\")"
   ]
  },
  {
   "cell_type": "code",
   "execution_count": 17,
   "metadata": {},
   "outputs": [
    {
     "name": "stdout",
     "output_type": "stream",
     "text": [
      "Error processing file /Users/yehudadicker/Library/Mobile Documents/com~apple~CloudDocs/Penn_Research/Penn/Baseline/ABGN_2015.02.27_flair_LPS_rSRI_SSFinal_N3_sus.nii: Expected 35712000 bytes, got 19463840 bytes from /Users/yehudadicker/Library/Mobile Documents/com~apple~CloudDocs/Penn_Research/Penn/Baseline/ABGN_2015.02.27_flair_LPS_rSRI_SSFinal_N3_sus.nii\n",
      " - could the file be damaged?\n"
     ]
    }
   ],
   "source": [
    "root_dir = '/Users/yehudadicker/Library/Mobile Documents/com~apple~CloudDocs/Penn_Research'  \n",
    "institutions = ['Penn', 'CWRU', 'NYU', 'TJU', 'OSU', 'RH']\n",
    "\n",
    "for inst in institutions:\n",
    "\n",
    "    # Baseline dir in each institution \n",
    "    baseline_dir = os.path.join(root_dir, inst, 'Baseline')\n",
    "\n",
    "    # Dir we're creating for scaling in root dir\n",
    "    min_max_scaled_baseline_dir = os.path.join(root_dir, 'Min_Max_Scaled_v2')\n",
    "\n",
    "    # Institution dirs we're creating within Min_Max_Scaled_Baseline\n",
    "    min_max_inst_dir = os.path.join(root_dir, min_max_scaled_baseline_dir, inst)\n",
    "   \n",
    "    # Ensure scaled directories exist\n",
    "    os.makedirs(min_max_scaled_baseline_dir, exist_ok=True)\n",
    "    os.makedirs(min_max_inst_dir, exist_ok=True)\n",
    "\n",
    "    # Process baseline images with MinMaxScaler\n",
    "    baseline_files = glob.glob(f\"{baseline_dir}/*.nii.gz\")\n",
    "    for file in baseline_files:\n",
    "        extracted_file = file[:-3]\n",
    "        extract_gz_file(file, extracted_file)\n",
    "        scale_whole_image(extracted_file, min_max_inst_dir, MinMaxScaler())"
   ]
  },
  {
   "cell_type": "code",
   "execution_count": 18,
   "metadata": {},
   "outputs": [
    {
     "data": {
      "text/plain": [
       "array([0.00000000e+00, 1.35040782e-05, 2.96596281e-05, ...,\n",
       "       9.81193781e-03, 9.82969254e-03, 9.90697742e-03])"
      ]
     },
     "execution_count": 18,
     "metadata": {},
     "output_type": "execute_result"
    }
   ],
   "source": [
    "unscaled_image = '/Users/yehudadicker/Library/Mobile Documents/com~apple~CloudDocs/Penn_Research/Penn/Baseline/AAAB_2006.10.28_adc_LPS_rSRI_SSFinal.nii'\n",
    "\n",
    "unscaled_img= nib.load(unscaled_image)\n",
    "unscaled_data = unscaled_img.get_fdata()\n",
    "\n",
    "unique = np.unique(unscaled_data)\n",
    "unique"
   ]
  },
  {
   "cell_type": "code",
   "execution_count": 36,
   "metadata": {},
   "outputs": [
    {
     "data": {
      "text/plain": [
       "array([0.        , 0.00136309, 0.00299381, ..., 0.9904068 , 0.99219895,\n",
       "       1.        ])"
      ]
     },
     "execution_count": 36,
     "metadata": {},
     "output_type": "execute_result"
    }
   ],
   "source": [
    "scaled_image_v2 = '/Users/yehudadicker/Library/Mobile Documents/com~apple~CloudDocs/Penn_Research/Min_Max_Scaled_v2/Penn/AAAB_2006.10.28_adc_LPS_rSRI_SSFinal_scaled.nii'\n",
    "\n",
    "scaled_img_v2= nib.load(scaled_image_v2)\n",
    "scaled_data_v2 = scaled_img_v2.get_fdata()\n",
    "\n",
    "unique = np.unique(scaled_data_v2)\n",
    "unique"
   ]
  },
  {
   "cell_type": "code",
   "execution_count": 37,
   "metadata": {},
   "outputs": [
    {
     "name": "stdout",
     "output_type": "stream",
     "text": [
      "Original data statistics - Mean: 0.00039747165601163476 Std: 0.0011139564081072085\n",
      "Scaled data statistics - Mean: 0.04012037570676458 Std: 0.11244160165451092\n"
     ]
    }
   ],
   "source": [
    "print(\"Original data statistics - Mean:\", np.mean(unscaled_data), \"Std:\", np.std(unscaled_data))\n",
    "print(\"Scaled data statistics - Mean:\", np.mean(scaled_data_v2), \"Std:\", np.std(scaled_data_v2))\n"
   ]
  }
 ],
 "metadata": {
  "kernelspec": {
   "display_name": "base",
   "language": "python",
   "name": "python3"
  },
  "language_info": {
   "codemirror_mode": {
    "name": "ipython",
    "version": 3
   },
   "file_extension": ".py",
   "mimetype": "text/x-python",
   "name": "python",
   "nbconvert_exporter": "python",
   "pygments_lexer": "ipython3",
   "version": "3.9.7"
  }
 },
 "nbformat": 4,
 "nbformat_minor": 2
}
