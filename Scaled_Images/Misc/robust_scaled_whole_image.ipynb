{
 "cells": [
  {
   "cell_type": "code",
   "execution_count": 2,
   "metadata": {},
   "outputs": [],
   "source": [
    "import numpy as np\n",
    "import nibabel as nib\n",
    "import os\n",
    "import matplotlib.pyplot as plt\n",
    "import glob\n",
    "import gzip\n",
    "import shutil\n",
    "from sklearn.preprocessing import MinMaxScaler, RobustScaler"
   ]
  },
  {
   "cell_type": "code",
   "execution_count": 6,
   "metadata": {},
   "outputs": [],
   "source": [
    "def extract_gz_file(gz_file, output_file):\n",
    "    if not os.path.exists(output_file):\n",
    "        with gzip.open(gz_file, 'rb') as f_in:\n",
    "            with open(output_file, 'wb') as f_out:\n",
    "                shutil.copyfileobj(f_in, f_out)\n",
    "\n",
    "def scale_and_save_image(input_file, output_dir, scaler):\n",
    "    try:\n",
    "        #print(input_file)\n",
    "        img = nib.load(input_file)\n",
    "        data = img.get_fdata()\n",
    "        #print(\"Original data shape:\", data.shape, \"Type:\", data.dtype)\n",
    "        #print(\"Original data statistics - Mean:\", np.mean(data), \"Std:\", np.std(data))\n",
    "\n",
    "        scaled_data = scaler.fit_transform(data.reshape(-1, 1)).reshape(data.shape)\n",
    "        #print(\"Scaler parameters:\", scaler.get_params())\n",
    "        #print(\"Scaler statistics - Center:\", scaler.center_, \"Scale:\", scaler.scale_)\n",
    "        #print(\"Scaled data statistics - Mean:\", np.mean(scaled_data), \"Std:\", np.std(scaled_data))\n",
    "\n",
    "        scaled_img = nib.Nifti1Image(scaled_data, affine=img.affine)\n",
    "        scaled_file_name = os.path.join(output_dir, os.path.basename(input_file).replace('.nii', '_whole_image_scaled.nii.gz'))\n",
    "        nib.save(scaled_img, scaled_file_name)\n",
    "    except (OSError, EOFError) as e:\n",
    "        print(f\"Error processing file {input_file}: {e}\")"
   ]
  },
  {
   "cell_type": "code",
   "execution_count": 7,
   "metadata": {},
   "outputs": [
    {
     "name": "stdout",
     "output_type": "stream",
     "text": [
      "Error processing file /Users/yehudadicker/Library/Mobile Documents/com~apple~CloudDocs/Penn_Research/Penn/Baseline/ABGN_2015.02.27_flair_LPS_rSRI_SSFinal_N3_sus.nii: Expected 35712000 bytes, got 19463840 bytes from /Users/yehudadicker/Library/Mobile Documents/com~apple~CloudDocs/Penn_Research/Penn/Baseline/ABGN_2015.02.27_flair_LPS_rSRI_SSFinal_N3_sus.nii\n",
      " - could the file be damaged?\n"
     ]
    }
   ],
   "source": [
    "root_dir = '/Users/yehudadicker/Library/Mobile Documents/com~apple~CloudDocs/Penn_Research'  # Replace with the path to your main directory\n",
    "#institutions = ['Penn', 'CWRU', 'NYU', 'TJU', 'OSU', 'RH']\n",
    "institutions = ['Penn']\n",
    "\n",
    "for inst in institutions:\n",
    "    \n",
    "    # Baseline dir in each institution \n",
    "    baseline_dir = os.path.join(root_dir, inst, 'Baseline')\n",
    "\n",
    "    # Dir we're creating for scaling in root dir\n",
    "    robust_scaled_baseline_dir = os.path.join(root_dir, 'Robust_Scaled')\n",
    "\n",
    "    # Institution dirs we're creating within Min_Max_Scaled_Baseline\n",
    "    robust_inst_dir = os.path.join(root_dir, robust_scaled_baseline_dir, inst)\n",
    "\n",
    "    os.makedirs(robust_scaled_baseline_dir, exist_ok=True)\n",
    "    os.makedirs(robust_inst_dir, exist_ok=True)\n",
    "\n",
    "    # Process baseline images with RobustScaler\n",
    "    baseline_files = glob.glob(f\"{baseline_dir}/*.nii.gz\")\n",
    "    for file in baseline_files:\n",
    "        extracted_file = file[:-3]\n",
    "        extract_gz_file(file, extracted_file)\n",
    "        scale_and_save_image(extracted_file, robust_inst_dir, RobustScaler())"
   ]
  },
  {
   "cell_type": "code",
   "execution_count": 38,
   "metadata": {},
   "outputs": [
    {
     "data": {
      "text/plain": [
       "array([0.00000000e+00, 1.35040782e-05, 2.96596281e-05, ...,\n",
       "       9.81193781e-03, 9.82969254e-03, 9.90697742e-03])"
      ]
     },
     "execution_count": 38,
     "metadata": {},
     "output_type": "execute_result"
    }
   ],
   "source": [
    "unscaled_image = '/Users/yehudadicker/Library/Mobile Documents/com~apple~CloudDocs/Penn_Research/Penn/Baseline/AAAB_2006.10.28_adc_LPS_rSRI_SSFinal.nii'\n",
    "\n",
    "unscaled_img= nib.load(unscaled_image)\n",
    "unscaled_data = unscaled_img.get_fdata()\n",
    "# Find unique values\n",
    "unique_values_2 = np.unique(unscaled_data)\n",
    "unique_values_2"
   ]
  },
  {
   "cell_type": "code",
   "execution_count": 40,
   "metadata": {},
   "outputs": [
    {
     "data": {
      "text/plain": [
       "array([0.00000000e+00, 1.35040782e-05, 2.96596281e-05, ...,\n",
       "       9.81193781e-03, 9.82969254e-03, 9.90697742e-03])"
      ]
     },
     "execution_count": 40,
     "metadata": {},
     "output_type": "execute_result"
    }
   ],
   "source": [
    "scaled_image = '/Users/yehudadicker/Library/Mobile Documents/com~apple~CloudDocs/Penn_Research/Robust_Scaled/Penn/AAAB_2006.10.28_adc_LPS_rSRI_SSFinal_whole_image_scaled.nii'\n",
    "\n",
    "scaled_img = nib.load(scaled_image)\n",
    "scaled_data = scaled_img.get_fdata()\n",
    "\n",
    "# Find unique values\n",
    "unique_values = np.unique(scaled_data)\n",
    "unique_values"
   ]
  },
  {
   "cell_type": "code",
   "execution_count": 41,
   "metadata": {},
   "outputs": [
    {
     "name": "stdout",
     "output_type": "stream",
     "text": [
      "Original data statistics - Mean: 0.00039747165601163476 Std: 0.0011139564081072085\n",
      "Scaled data statistics - Mean: 0.00039747165601163476 Std: 0.0011139564081072085\n"
     ]
    }
   ],
   "source": [
    "print(\"Original data statistics - Mean:\", np.mean(unscaled_data), \"Std:\", np.std(unscaled_data))\n",
    "print(\"Scaled data statistics - Mean:\", np.mean(scaled_data), \"Std:\", np.std(scaled_data))\n"
   ]
  },
  {
   "cell_type": "code",
   "execution_count": 30,
   "metadata": {},
   "outputs": [
    {
     "name": "stdout",
     "output_type": "stream",
     "text": [
      "443\n",
      "442\n"
     ]
    }
   ],
   "source": [
    "import os\n",
    "import glob\n",
    "\n",
    "def count_gz_files(directory):\n",
    "    gz_files = glob.glob(f\"{directory}/*.gz\")  # Finds all .gz files in the directory\n",
    "    return len(gz_files)\n",
    "\n",
    "# Define your two directories\n",
    "dir1 = '/Users/yehudadicker/Library/Mobile Documents/com~apple~CloudDocs/Penn_Research/Penn/Baseline'\n",
    "dir2 = '/Users/yehudadicker/Library/Mobile Documents/com~apple~CloudDocs/Penn_Research/Robust_Scaled/Penn'\n",
    "\n",
    "# Count .gz files in each directory\n",
    "gz_counts_dir1 = count_gz_files(dir1)\n",
    "gz_counts_dir2 = count_gz_files(dir2)\n",
    "\n",
    "print(gz_counts_dir1)\n",
    "print(gz_counts_dir2)\n"
   ]
  }
 ],
 "metadata": {
  "kernelspec": {
   "display_name": "base",
   "language": "python",
   "name": "python3"
  },
  "language_info": {
   "codemirror_mode": {
    "name": "ipython",
    "version": 3
   },
   "file_extension": ".py",
   "mimetype": "text/x-python",
   "name": "python",
   "nbconvert_exporter": "python",
   "pygments_lexer": "ipython3",
   "version": "3.9.7"
  }
 },
 "nbformat": 4,
 "nbformat_minor": 2
}
