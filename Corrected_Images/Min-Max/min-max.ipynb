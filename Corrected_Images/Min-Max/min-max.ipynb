{
 "cells": [
  {
   "cell_type": "code",
   "execution_count": 1,
   "metadata": {},
   "outputs": [],
   "source": [
    "import numpy as np\n",
    "import nibabel as nib\n",
    "import os\n",
    "import matplotlib.pyplot as plt\n",
    "import glob\n",
    "import gzip\n",
    "import shutil\n",
    "from sklearn.preprocessing import MinMaxScaler, RobustScaler"
   ]
  },
  {
   "cell_type": "code",
   "execution_count": 9,
   "metadata": {},
   "outputs": [],
   "source": [
    "def extract_gz_file(gz_file, output_file):\n",
    "    if not os.path.exists(output_file):\n",
    "        with gzip.open(gz_file, 'rb') as f_in:\n",
    "            with open(output_file, 'wb') as f_out:\n",
    "                shutil.copyfileobj(f_in, f_out)\n",
    "\n",
    "def scale_and_save_image(input_file, output_dir, scaler):\n",
    "    try:\n",
    "        img = nib.load(input_file)\n",
    "        data = img.get_fdata()\n",
    "        scaled_data = scaler.fit_transform(data.reshape(-1, 1)).reshape(data.shape)\n",
    "        scaled_img = nib.Nifti1Image(scaled_data, affine=img.affine)\n",
    "        scaled_file_name = os.path.join(output_dir, os.path.basename(input_file).replace('.nii', '_scaled.nii.gz'))\n",
    "        nib.save(scaled_img, scaled_file_name)\n",
    "    except (OSError, EOFError) as e:\n",
    "        print(f\"Error processing file {input_file}: {e}\")"
   ]
  },
  {
   "cell_type": "code",
   "execution_count": 10,
   "metadata": {},
   "outputs": [
    {
     "name": "stdout",
     "output_type": "stream",
     "text": [
      "Error processing file /Users/yehudadicker/Library/Mobile Documents/com~apple~CloudDocs/Penn_Research/Penn/Baseline/ABGN_2015.02.27_flair_LPS_rSRI_SSFinal_N3_sus.nii: Expected 35712000 bytes, got 19463840 bytes from /Users/yehudadicker/Library/Mobile Documents/com~apple~CloudDocs/Penn_Research/Penn/Baseline/ABGN_2015.02.27_flair_LPS_rSRI_SSFinal_N3_sus.nii\n",
      " - could the file be damaged?\n",
      "Error processing file /Users/yehudadicker/Library/Mobile Documents/com~apple~CloudDocs/Penn_Research/Penn/Baseline/ABGN_2015.02.27_flair_LPS_rSRI_SSFinal_N3_sus.nii: Expected 35712000 bytes, got 19463840 bytes from /Users/yehudadicker/Library/Mobile Documents/com~apple~CloudDocs/Penn_Research/Penn/Baseline/ABGN_2015.02.27_flair_LPS_rSRI_SSFinal_N3_sus.nii\n",
      " - could the file be damaged?\n"
     ]
    }
   ],
   "source": [
    "root_dir = '/Users/yehudadicker/Library/Mobile Documents/com~apple~CloudDocs/Penn_Research'  # Replace with the path to your main directory\n",
    "institutions = ['Penn', 'CWRU', 'NYU', 'TJU', 'OSU', 'RH']\n",
    "\n",
    "for inst in institutions:\n",
    "    baseline_dir = os.path.join(root_dir, inst, 'Baseline')\n",
    "    #seg_dir = os.path.join(root_dir, inst, 'Seg')\n",
    "    min_max_scaled_baseline_dir = os.path.join(root_dir, 'Min-Max_Scaled_Baseline')\n",
    "    min_max_inst_dir = os.path.join(root_dir, min_max_scaled_baseline_dir, inst)\n",
    "    #min_max_scaled_seg_dir = os.path.join(root_dir, inst, 'min-max_scaled_seg')\n",
    "    robust_scaled_baseline_dir = os.path.join(root_dir, 'Robust_Scaled_Baseline')\n",
    "    robust_inst_dir = os.path.join(root_dir, robust_scaled_baseline_dir, inst)\n",
    "    #robust_scaled_seg_dir = os.path.join(root_dir, inst, 'robust_scaled_seg')\n",
    "\n",
    "    # Ensure scaled directories exist\n",
    "    os.makedirs(min_max_scaled_baseline_dir, exist_ok=True)\n",
    "    os.makedirs(min_max_inst_dir, exist_ok=True)\n",
    "    #os.makedirs(min_max_scaled_seg_dir, exist_ok=True)\n",
    "    os.makedirs(robust_scaled_baseline_dir, exist_ok=True)\n",
    "    os.makedirs(robust_inst_dir, exist_ok=True)\n",
    "    #os.makedirs(robust_scaled_seg_dir, exist_ok=True)\n",
    "\n",
    "    # Process baseline images with MinMaxScaler\n",
    "    baseline_files = glob.glob(f\"{baseline_dir}/*.nii.gz\")\n",
    "    for file in baseline_files:\n",
    "        extracted_file = file[:-3]\n",
    "        extract_gz_file(file, extracted_file)\n",
    "        scale_and_save_image(extracted_file, min_max_inst_dir, MinMaxScaler())\n",
    "\n",
    "    # Process baseline images with RobustScaler\n",
    "    baseline_files = glob.glob(f\"{baseline_dir}/*.nii.gz\")\n",
    "    for file in baseline_files:\n",
    "        extracted_file = file[:-3]\n",
    "        extract_gz_file(file, extracted_file)\n",
    "        scale_and_save_image(extracted_file, robust_inst_dir, RobustScaler())"
   ]
  }
 ],
 "metadata": {
  "kernelspec": {
   "display_name": "base",
   "language": "python",
   "name": "python3"
  },
  "language_info": {
   "codemirror_mode": {
    "name": "ipython",
    "version": 3
   },
   "file_extension": ".py",
   "mimetype": "text/x-python",
   "name": "python",
   "nbconvert_exporter": "python",
   "pygments_lexer": "ipython3",
   "version": "3.9.7"
  }
 },
 "nbformat": 4,
 "nbformat_minor": 2
}
