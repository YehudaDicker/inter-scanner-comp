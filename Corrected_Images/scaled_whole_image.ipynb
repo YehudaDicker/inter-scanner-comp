{
 "cells": [
  {
   "cell_type": "code",
   "execution_count": 8,
   "metadata": {},
   "outputs": [],
   "source": [
    "import numpy as np\n",
    "import nibabel as nib\n",
    "import os\n",
    "import matplotlib.pyplot as plt\n",
    "import glob\n",
    "import gzip\n",
    "import shutil\n",
    "from sklearn.preprocessing import MinMaxScaler, RobustScaler"
   ]
  },
  {
   "cell_type": "code",
   "execution_count": 45,
   "metadata": {},
   "outputs": [],
   "source": [
    "def extract_gz_file(gz_file, output_file):\n",
    "    if not os.path.exists(output_file):\n",
    "        with gzip.open(gz_file, 'rb') as f_in:\n",
    "            with open(output_file, 'wb') as f_out:\n",
    "                shutil.copyfileobj(f_in, f_out)\n",
    "\n",
    "def scale_and_save_image(input_file, output_dir, scaler):\n",
    "    try:\n",
    "        img = nib.load(input_file)\n",
    "        data = img.get_fdata()\n",
    "        scaled_data = scaler.fit_transform(data.reshape(-1, 1)).reshape(data.shape)\n",
    "        scaled_img = nib.Nifti1Image(scaled_data, affine=img.affine)\n",
    "        scaled_file_name = os.path.join(output_dir, os.path.basename(input_file).replace('.nii', '_edema_scaled.nii.gz'))\n",
    "        nib.save(scaled_img, scaled_file_name)\n",
    "    except (OSError, EOFError) as e:\n",
    "        print(f\"Error processing file {input_file}: {e}\")"
   ]
  },
  {
   "cell_type": "code",
   "execution_count": 10,
   "metadata": {},
   "outputs": [
    {
     "name": "stdout",
     "output_type": "stream",
     "text": [
      "Error processing file /Users/yehudadicker/Library/Mobile Documents/com~apple~CloudDocs/Penn_Research/Penn/Baseline/ABGN_2015.02.27_flair_LPS_rSRI_SSFinal_N3_sus.nii: Expected 35712000 bytes, got 19463840 bytes from /Users/yehudadicker/Library/Mobile Documents/com~apple~CloudDocs/Penn_Research/Penn/Baseline/ABGN_2015.02.27_flair_LPS_rSRI_SSFinal_N3_sus.nii\n",
      " - could the file be damaged?\n",
      "Error processing file /Users/yehudadicker/Library/Mobile Documents/com~apple~CloudDocs/Penn_Research/Penn/Baseline/ABGN_2015.02.27_flair_LPS_rSRI_SSFinal_N3_sus.nii: Expected 35712000 bytes, got 19463840 bytes from /Users/yehudadicker/Library/Mobile Documents/com~apple~CloudDocs/Penn_Research/Penn/Baseline/ABGN_2015.02.27_flair_LPS_rSRI_SSFinal_N3_sus.nii\n",
      " - could the file be damaged?\n"
     ]
    }
   ],
   "source": [
    "root_dir = '/Users/yehudadicker/Library/Mobile Documents/com~apple~CloudDocs/Penn_Research'  # Replace with the path to your main directory\n",
    "institutions = ['Penn', 'CWRU', 'NYU', 'TJU', 'OSU', 'RH']\n",
    "\n",
    "for inst in institutions:\n",
    "    baseline_dir = os.path.join(root_dir, inst, 'Baseline')\n",
    "    #seg_dir = os.path.join(root_dir, inst, 'Seg')\n",
    "    min_max_scaled_baseline_dir = os.path.join(root_dir, 'Min-Max_Scaled_Baseline')\n",
    "    min_max_inst_dir = os.path.join(root_dir, min_max_scaled_baseline_dir, inst)\n",
    "    #min_max_scaled_seg_dir = os.path.join(root_dir, inst, 'min-max_scaled_seg')\n",
    "    robust_scaled_baseline_dir = os.path.join(root_dir, 'Robust_Scaled_Baseline')\n",
    "    robust_inst_dir = os.path.join(root_dir, robust_scaled_baseline_dir, inst)\n",
    "    #robust_scaled_seg_dir = os.path.join(root_dir, inst, 'robust_scaled_seg')\n",
    "\n",
    "    # Ensure scaled directories exist\n",
    "    os.makedirs(min_max_scaled_baseline_dir, exist_ok=True)\n",
    "    os.makedirs(min_max_inst_dir, exist_ok=True)\n",
    "    #os.makedirs(min_max_scaled_seg_dir, exist_ok=True)\n",
    "    os.makedirs(robust_scaled_baseline_dir, exist_ok=True)\n",
    "    os.makedirs(robust_inst_dir, exist_ok=True)\n",
    "    #os.makedirs(robust_scaled_seg_dir, exist_ok=True)\n",
    "\n",
    "    # Process baseline images with MinMaxScaler\n",
    "    baseline_files = glob.glob(f\"{baseline_dir}/*.nii.gz\")\n",
    "    for file in baseline_files:\n",
    "        extracted_file = file[:-3]\n",
    "        extract_gz_file(file, extracted_file)\n",
    "        scale_and_save_image(extracted_file, min_max_inst_dir, MinMaxScaler())\n",
    "\n",
    "    # Process baseline images with RobustScaler\n",
    "    baseline_files = glob.glob(f\"{baseline_dir}/*.nii.gz\")\n",
    "    for file in baseline_files:\n",
    "        extracted_file = file[:-3]\n",
    "        extract_gz_file(file, extracted_file)\n",
    "        scale_and_save_image(extracted_file, robust_inst_dir, RobustScaler())"
   ]
  },
  {
   "cell_type": "code",
   "execution_count": 36,
   "metadata": {},
   "outputs": [],
   "source": [
    "# Function to get edema voxels\n",
    "def get_edema_voxels(image_file, segmentation_mask_file):\n",
    "    try:\n",
    "        # Load the image and segmentation mask\n",
    "        image = nib.load(image_file).get_fdata()\n",
    "        segmentation_mask = nib.load(segmentation_mask_file).get_fdata()\n",
    "        # Extract voxels where segmentation mask equals 2 (edema)\n",
    "        edema_voxels = image[segmentation_mask == 2]\n",
    "        edema_voxels = edema_voxels.reshape(-1, 1)  # Reshape to 2D array\n",
    "        return edema_voxels\n",
    "    \n",
    "    except (OSError, EOFError) as e:\n",
    "        print(f\"Error processing file {image_file}: {e}\")\n",
    "        return None\n",
    "\n",
    "def extract_common_prefix(filename):\n",
    "    \"\"\"\n",
    "    Extracts the common prefix from the filename.\n",
    "    Assumes that the common prefix includes the institution identifier and the date.\n",
    "    \"\"\"\n",
    "    parts = filename.split('_')\n",
    "    # Assuming the date is always the second part, the prefix includes the first two parts\n",
    "    return '_'.join(parts[:2])"
   ]
  },
  {
   "cell_type": "code",
   "execution_count": 47,
   "metadata": {},
   "outputs": [
    {
     "name": "stdout",
     "output_type": "stream",
     "text": [
      "Error processing file /Users/yehudadicker/Library/Mobile Documents/com~apple~CloudDocs/Penn_Research/Penn/Baseline/ABGN_2015.02.27_flair_LPS_rSRI_SSFinal_N3_sus.nii: Expected 35712000 bytes, got 19463840 bytes from /Users/yehudadicker/Library/Mobile Documents/com~apple~CloudDocs/Penn_Research/Penn/Baseline/ABGN_2015.02.27_flair_LPS_rSRI_SSFinal_N3_sus.nii\n",
      " - could the file be damaged?\n",
      "Skipping /Users/yehudadicker/Library/Mobile Documents/com~apple~CloudDocs/Penn_Research/Penn/Baseline/ABGN_2015.02.27_flair_LPS_rSRI_SSFinal_N3_sus.nii\n"
     ]
    }
   ],
   "source": [
    "import numpy as np\n",
    "import nibabel as nib\n",
    "import os\n",
    "import matplotlib.pyplot as plt\n",
    "import glob\n",
    "import gzip\n",
    "import shutil\n",
    "from sklearn.preprocessing import MinMaxScaler, RobustScaler\n",
    "\n",
    "root_dir = '/Users/yehudadicker/Library/Mobile Documents/com~apple~CloudDocs/Penn_Research'  # Replace with the path to your main directory\n",
    "institutions = ['Penn', 'CWRU', 'NYU', 'TJU', 'OSU', 'RH']\n",
    "\n",
    "for inst in institutions:\n",
    "    baseline_dir = os.path.join(root_dir, inst, 'Baseline')\n",
    "    seg_dir = os.path.join(root_dir, inst, 'Seg')\n",
    "\n",
    "    min_max_scaled_baseline_dir = os.path.join(root_dir, 'Min-Max_Scaled_Baseline')\n",
    "    min_max_inst_dir = os.path.join(root_dir, min_max_scaled_baseline_dir, 'Edema_Scaled', inst)\n",
    "\n",
    "    robust_scaled_baseline_dir = os.path.join(root_dir, 'Robust_Scaled_Baseline')\n",
    "    robust_inst_dir = os.path.join(root_dir, robust_scaled_baseline_dir, 'Edema_Scaled', inst)\n",
    "\n",
    "    os.makedirs(min_max_inst_dir, exist_ok=True)\n",
    "    os.makedirs(robust_inst_dir, exist_ok=True)\n",
    "\n",
    "    baseline_files = glob.glob(f\"{baseline_dir}/*.nii.gz\")\n",
    "    for baseline_file in baseline_files:\n",
    "        # Extract baseline file\n",
    "        extracted_baseline_file = baseline_file[:-3]\n",
    "        extract_gz_file(baseline_file, extracted_baseline_file)\n",
    "\n",
    "        baseline_filename = os.path.basename(extracted_baseline_file)\n",
    "        common_prefix = extract_common_prefix(baseline_filename)\n",
    "\n",
    "        # Construct segmentation filename with the specific suffix\n",
    "        segmentation_filename = f\"{common_prefix}_LPS_rSRI_segmF.nii\"\n",
    "        segmentation_file = os.path.join(seg_dir, segmentation_filename)\n",
    "\n",
    "        if not os.path.exists(segmentation_file):\n",
    "            print(f\"No matching segmentation file for {baseline_filename}, skipping.\")\n",
    "            continue\n",
    "                    \n",
    "        # Extract edema voxels\n",
    "        edema_voxels = get_edema_voxels(extracted_baseline_file, segmentation_file)\n",
    "        if edema_voxels is None:\n",
    "            print(\"Skipping\", extracted_baseline_file)\n",
    "            continue\n",
    "\n",
    "        # Apply Min-Max Scaling based on edema voxels\n",
    "        min_max_scaler = MinMaxScaler()\n",
    "        min_max_scaler = min_max_scaler.fit(edema_voxels)\n",
    "        scale_and_save_image(extracted_baseline_file, min_max_inst_dir, min_max_scaler)\n",
    "\n",
    "        # Apply Robust Scaling based on edema voxels\n",
    "        robust_scaler = RobustScaler()\n",
    "        robust_scaler = robust_scaler.fit(edema_voxels)\n",
    "        scale_and_save_image(extracted_baseline_file, robust_inst_dir, robust_scaler)\n"
   ]
  }
 ],
 "metadata": {
  "kernelspec": {
   "display_name": "base",
   "language": "python",
   "name": "python3"
  },
  "language_info": {
   "codemirror_mode": {
    "name": "ipython",
    "version": 3
   },
   "file_extension": ".py",
   "mimetype": "text/x-python",
   "name": "python",
   "nbconvert_exporter": "python",
   "pygments_lexer": "ipython3",
   "version": "3.9.7"
  }
 },
 "nbformat": 4,
 "nbformat_minor": 2
}
