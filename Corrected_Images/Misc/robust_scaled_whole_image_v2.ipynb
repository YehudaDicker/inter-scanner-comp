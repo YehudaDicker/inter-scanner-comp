{
 "cells": [
  {
   "cell_type": "code",
   "execution_count": 1,
   "metadata": {},
   "outputs": [],
   "source": [
    "import numpy as np\n",
    "import nibabel as nib\n",
    "import os\n",
    "import matplotlib.pyplot as plt\n",
    "import glob\n",
    "import gzip\n",
    "import shutil\n",
    "from sklearn.preprocessing import MinMaxScaler, RobustScaler"
   ]
  },
  {
   "cell_type": "code",
   "execution_count": 9,
   "metadata": {},
   "outputs": [],
   "source": [
    "def scale_whole_image(input_file, output_dir, scaler):\n",
    "    try:\n",
    "        img = nib.load(input_file)\n",
    "        data = img.get_fdata()\n",
    "\n",
    "        print(\"Original data shape:\", data.shape, \"Type:\", data.dtype)\n",
    "        print(\"Original data statistics - Mean:\", np.mean(data), \"Std:\", np.std(data))\n",
    "\n",
    "        # Reshape the data to a 2D array where each row is a voxel\n",
    "        reshaped_data = data.reshape(-1, 1)\n",
    "\n",
    "        # Apply the scaler\n",
    "        scaled_data_reshaped = scaler.fit_transform(reshaped_data)\n",
    "\n",
    "        # Reshape the scaled data back to its original 3D shape\n",
    "        scaled_data = scaled_data_reshaped.reshape(data.shape)\n",
    "\n",
    "        print(\"Scaler parameters:\", scaler.get_params())\n",
    "        print(\"Scaler statistics - Center:\", scaler.center_, \"Scale:\", scaler.scale_)\n",
    "        print(\"Scaled data statistics - Mean:\", np.mean(scaled_data), \"Std:\", np.std(scaled_data))\n",
    "        print(\"Scaling completed\")  \n",
    "\n",
    "        scaled_img = nib.Nifti1Image(scaled_data, affine=img.affine)\n",
    "        scaled_file_name = os.path.join(output_dir, os.path.basename(input_file).replace('.nii', '_scaled.nii.gz'))\n",
    "        nib.save(scaled_img, scaled_file_name)\n",
    "        print(f\"File saved: {scaled_file_name}\")\n",
    "    except Exception as e:\n",
    "        print(f\"Error processing file {input_file}: {e}\")\n"
   ]
  },
  {
   "cell_type": "code",
   "execution_count": 3,
   "metadata": {},
   "outputs": [],
   "source": [
    "def extract_gz_file(gz_file, output_file):\n",
    "    if not os.path.exists(output_file):\n",
    "        with gzip.open(gz_file, 'rb') as f_in:\n",
    "            with open(output_file, 'wb') as f_out:\n",
    "                shutil.copyfileobj(f_in, f_out)"
   ]
  },
  {
   "cell_type": "code",
   "execution_count": 10,
   "metadata": {},
   "outputs": [
    {
     "name": "stdout",
     "output_type": "stream",
     "text": [
      "Original data shape: (240, 240, 155) Type: float64\n",
      "Original data statistics - Mean: 106.25764588663102 Std: 266.0412124541704\n",
      "Scaler parameters: {'copy': True, 'quantile_range': (25.0, 75.0), 'unit_variance': False, 'with_centering': True, 'with_scaling': True}\n",
      "Scaler statistics - Center: [0.] Scale: [1.]\n",
      "Scaled data statistics - Mean: 106.2576458866309 Std: 266.0412124541705\n",
      "Scaling completed\n",
      "File saved: /Users/yehudadicker/Library/Mobile Documents/com~apple~CloudDocs/Penn_Research/Robust_Scaled_v2/Penn/AAVO_2011.12.31_t2_LPS_rSRI_SSFinal_N3_sus_scaled.nii.gz\n",
      "Original data shape: (240, 240, 155) Type: float64\n",
      "Original data statistics - Mean: 22.172980272821363 Std: 57.29117724273793\n",
      "Scaler parameters: {'copy': True, 'quantile_range': (25.0, 75.0), 'unit_variance': False, 'with_centering': True, 'with_scaling': True}\n",
      "Scaler statistics - Center: [0.] Scale: [1.]\n",
      "Scaled data statistics - Mean: 22.1729802728214 Std: 57.291177242738016\n",
      "Scaling completed\n",
      "File saved: /Users/yehudadicker/Library/Mobile Documents/com~apple~CloudDocs/Penn_Research/Robust_Scaled_v2/Penn/AAMD_2007.07.10_t2_LPS_rSRI_SSFinal_N3_sus_scaled.nii.gz\n",
      "Original data shape: (240, 240, 155) Type: float64\n",
      "Original data statistics - Mean: 111.11102862870142 Std: 263.3155485455088\n",
      "Scaler parameters: {'copy': True, 'quantile_range': (25.0, 75.0), 'unit_variance': False, 'with_centering': True, 'with_scaling': True}\n",
      "Scaler statistics - Center: [0.] Scale: [1.]\n",
      "Scaled data statistics - Mean: 111.11102862870156 Std: 263.31554854550893\n",
      "Scaling completed\n",
      "File saved: /Users/yehudadicker/Library/Mobile Documents/com~apple~CloudDocs/Penn_Research/Robust_Scaled_v2/Penn/AART_2012.05.21_t2_LPS_rSRI_SSFinal_N3_sus_scaled.nii.gz\n",
      "Original data shape: (240, 240, 155) Type: float64\n",
      "Original data statistics - Mean: 55.78952697207493 Std: 124.460755699215\n",
      "Scaler parameters: {'copy': True, 'quantile_range': (25.0, 75.0), 'unit_variance': False, 'with_centering': True, 'with_scaling': True}\n",
      "Scaler statistics - Center: [0.] Scale: [1.]\n",
      "Scaled data statistics - Mean: 55.789526972074896 Std: 124.46075569921521\n",
      "Scaling completed\n",
      "File saved: /Users/yehudadicker/Library/Mobile Documents/com~apple~CloudDocs/Penn_Research/Robust_Scaled_v2/Penn/AAQZ_2013.10.25_t1_LPS_rSRI_SSFinal_N3_sus_scaled.nii.gz\n",
      "Original data shape: (240, 240, 155) Type: float64\n",
      "Original data statistics - Mean: 0.0005641350278775397 Std: 0.001431940029537309\n",
      "Scaler parameters: {'copy': True, 'quantile_range': (25.0, 75.0), 'unit_variance': False, 'with_centering': True, 'with_scaling': True}\n",
      "Scaler statistics - Center: [0.] Scale: [1.]\n",
      "Scaled data statistics - Mean: 0.0005641350278775397 Std: 0.0014319400295373084\n",
      "Scaling completed\n",
      "File saved: /Users/yehudadicker/Library/Mobile Documents/com~apple~CloudDocs/Penn_Research/Robust_Scaled_v2/Penn/AAQZ_2013.10.25_adc_LPS_rSRI_SSFinal_scaled.nii.gz\n",
      "Original data shape: (240, 240, 155) Type: float64\n",
      "Original data statistics - Mean: 136.4676127433746 Std: 304.3869328054194\n",
      "Scaler parameters: {'copy': True, 'quantile_range': (25.0, 75.0), 'unit_variance': False, 'with_centering': True, 'with_scaling': True}\n",
      "Scaler statistics - Center: [0.] Scale: [1.]\n"
     ]
    },
    {
     "ename": "KeyboardInterrupt",
     "evalue": "",
     "output_type": "error",
     "traceback": [
      "\u001b[0;31m---------------------------------------------------------------------------\u001b[0m",
      "\u001b[0;31mKeyboardInterrupt\u001b[0m                         Traceback (most recent call last)",
      "\u001b[0;32m/var/folders/7l/kgs85yd51k757hkw0j363nym0000gn/T/ipykernel_66076/3437201989.py\u001b[0m in \u001b[0;36m<module>\u001b[0;34m\u001b[0m\n\u001b[1;32m     22\u001b[0m         \u001b[0mextracted_file\u001b[0m \u001b[0;34m=\u001b[0m \u001b[0mfile\u001b[0m\u001b[0;34m[\u001b[0m\u001b[0;34m:\u001b[0m\u001b[0;34m-\u001b[0m\u001b[0;36m3\u001b[0m\u001b[0;34m]\u001b[0m\u001b[0;34m\u001b[0m\u001b[0;34m\u001b[0m\u001b[0m\n\u001b[1;32m     23\u001b[0m         \u001b[0mextract_gz_file\u001b[0m\u001b[0;34m(\u001b[0m\u001b[0mfile\u001b[0m\u001b[0;34m,\u001b[0m \u001b[0mextracted_file\u001b[0m\u001b[0;34m)\u001b[0m\u001b[0;34m\u001b[0m\u001b[0;34m\u001b[0m\u001b[0m\n\u001b[0;32m---> 24\u001b[0;31m         \u001b[0mscale_whole_image\u001b[0m\u001b[0;34m(\u001b[0m\u001b[0mextracted_file\u001b[0m\u001b[0;34m,\u001b[0m \u001b[0mrobust_inst_dir\u001b[0m\u001b[0;34m,\u001b[0m \u001b[0mRobustScaler\u001b[0m\u001b[0;34m(\u001b[0m\u001b[0;34m)\u001b[0m\u001b[0;34m)\u001b[0m\u001b[0;34m\u001b[0m\u001b[0;34m\u001b[0m\u001b[0m\n\u001b[0m",
      "\u001b[0;32m/var/folders/7l/kgs85yd51k757hkw0j363nym0000gn/T/ipykernel_66076/1660245599.py\u001b[0m in \u001b[0;36mscale_whole_image\u001b[0;34m(input_file, output_dir, scaler)\u001b[0m\n\u001b[1;32m     18\u001b[0m         \u001b[0mprint\u001b[0m\u001b[0;34m(\u001b[0m\u001b[0;34m\"Scaler parameters:\"\u001b[0m\u001b[0;34m,\u001b[0m \u001b[0mscaler\u001b[0m\u001b[0;34m.\u001b[0m\u001b[0mget_params\u001b[0m\u001b[0;34m(\u001b[0m\u001b[0;34m)\u001b[0m\u001b[0;34m)\u001b[0m\u001b[0;34m\u001b[0m\u001b[0;34m\u001b[0m\u001b[0m\n\u001b[1;32m     19\u001b[0m         \u001b[0mprint\u001b[0m\u001b[0;34m(\u001b[0m\u001b[0;34m\"Scaler statistics - Center:\"\u001b[0m\u001b[0;34m,\u001b[0m \u001b[0mscaler\u001b[0m\u001b[0;34m.\u001b[0m\u001b[0mcenter_\u001b[0m\u001b[0;34m,\u001b[0m \u001b[0;34m\"Scale:\"\u001b[0m\u001b[0;34m,\u001b[0m \u001b[0mscaler\u001b[0m\u001b[0;34m.\u001b[0m\u001b[0mscale_\u001b[0m\u001b[0;34m)\u001b[0m\u001b[0;34m\u001b[0m\u001b[0;34m\u001b[0m\u001b[0m\n\u001b[0;32m---> 20\u001b[0;31m         \u001b[0mprint\u001b[0m\u001b[0;34m(\u001b[0m\u001b[0;34m\"Scaled data statistics - Mean:\"\u001b[0m\u001b[0;34m,\u001b[0m \u001b[0mnp\u001b[0m\u001b[0;34m.\u001b[0m\u001b[0mmean\u001b[0m\u001b[0;34m(\u001b[0m\u001b[0mscaled_data\u001b[0m\u001b[0;34m)\u001b[0m\u001b[0;34m,\u001b[0m \u001b[0;34m\"Std:\"\u001b[0m\u001b[0;34m,\u001b[0m \u001b[0mnp\u001b[0m\u001b[0;34m.\u001b[0m\u001b[0mstd\u001b[0m\u001b[0;34m(\u001b[0m\u001b[0mscaled_data\u001b[0m\u001b[0;34m)\u001b[0m\u001b[0;34m)\u001b[0m\u001b[0;34m\u001b[0m\u001b[0;34m\u001b[0m\u001b[0m\n\u001b[0m\u001b[1;32m     21\u001b[0m         \u001b[0mprint\u001b[0m\u001b[0;34m(\u001b[0m\u001b[0;34m\"Scaling completed\"\u001b[0m\u001b[0;34m)\u001b[0m\u001b[0;34m\u001b[0m\u001b[0;34m\u001b[0m\u001b[0m\n\u001b[1;32m     22\u001b[0m \u001b[0;34m\u001b[0m\u001b[0m\n",
      "\u001b[0;32m~/opt/anaconda3/lib/python3.9/site-packages/numpy/core/overrides.py\u001b[0m in \u001b[0;36mstd\u001b[0;34m(*args, **kwargs)\u001b[0m\n",
      "\u001b[0;32m~/opt/anaconda3/lib/python3.9/site-packages/numpy/core/fromnumeric.py\u001b[0m in \u001b[0;36mstd\u001b[0;34m(a, axis, dtype, out, ddof, keepdims, where)\u001b[0m\n\u001b[1;32m   3613\u001b[0m             \u001b[0;32mreturn\u001b[0m \u001b[0mstd\u001b[0m\u001b[0;34m(\u001b[0m\u001b[0maxis\u001b[0m\u001b[0;34m=\u001b[0m\u001b[0maxis\u001b[0m\u001b[0;34m,\u001b[0m \u001b[0mdtype\u001b[0m\u001b[0;34m=\u001b[0m\u001b[0mdtype\u001b[0m\u001b[0;34m,\u001b[0m \u001b[0mout\u001b[0m\u001b[0;34m=\u001b[0m\u001b[0mout\u001b[0m\u001b[0;34m,\u001b[0m \u001b[0mddof\u001b[0m\u001b[0;34m=\u001b[0m\u001b[0mddof\u001b[0m\u001b[0;34m,\u001b[0m \u001b[0;34m**\u001b[0m\u001b[0mkwargs\u001b[0m\u001b[0;34m)\u001b[0m\u001b[0;34m\u001b[0m\u001b[0;34m\u001b[0m\u001b[0m\n\u001b[1;32m   3614\u001b[0m \u001b[0;34m\u001b[0m\u001b[0m\n\u001b[0;32m-> 3615\u001b[0;31m     return _methods._std(a, axis=axis, dtype=dtype, out=out, ddof=ddof,\n\u001b[0m\u001b[1;32m   3616\u001b[0m                          **kwargs)\n\u001b[1;32m   3617\u001b[0m \u001b[0;34m\u001b[0m\u001b[0m\n",
      "\u001b[0;32m~/opt/anaconda3/lib/python3.9/site-packages/numpy/core/_methods.py\u001b[0m in \u001b[0;36m_std\u001b[0;34m(a, axis, dtype, out, ddof, keepdims, where)\u001b[0m\n\u001b[1;32m    262\u001b[0m def _std(a, axis=None, dtype=None, out=None, ddof=0, keepdims=False, *,\n\u001b[1;32m    263\u001b[0m          where=True):\n\u001b[0;32m--> 264\u001b[0;31m     ret = _var(a, axis=axis, dtype=dtype, out=out, ddof=ddof,\n\u001b[0m\u001b[1;32m    265\u001b[0m                keepdims=keepdims, where=where)\n\u001b[1;32m    266\u001b[0m \u001b[0;34m\u001b[0m\u001b[0m\n",
      "\u001b[0;32m~/opt/anaconda3/lib/python3.9/site-packages/numpy/core/_methods.py\u001b[0m in \u001b[0;36m_var\u001b[0;34m(a, axis, dtype, out, ddof, keepdims, where)\u001b[0m\n\u001b[1;32m    230\u001b[0m     \u001b[0;31m# Note that x may not be inexact and that we need it to be an array,\u001b[0m\u001b[0;34m\u001b[0m\u001b[0;34m\u001b[0m\u001b[0m\n\u001b[1;32m    231\u001b[0m     \u001b[0;31m# not a scalar.\u001b[0m\u001b[0;34m\u001b[0m\u001b[0;34m\u001b[0m\u001b[0m\n\u001b[0;32m--> 232\u001b[0;31m     \u001b[0mx\u001b[0m \u001b[0;34m=\u001b[0m \u001b[0masanyarray\u001b[0m\u001b[0;34m(\u001b[0m\u001b[0marr\u001b[0m \u001b[0;34m-\u001b[0m \u001b[0marrmean\u001b[0m\u001b[0;34m)\u001b[0m\u001b[0;34m\u001b[0m\u001b[0;34m\u001b[0m\u001b[0m\n\u001b[0m\u001b[1;32m    233\u001b[0m \u001b[0;34m\u001b[0m\u001b[0m\n\u001b[1;32m    234\u001b[0m     \u001b[0;32mif\u001b[0m \u001b[0missubclass\u001b[0m\u001b[0;34m(\u001b[0m\u001b[0marr\u001b[0m\u001b[0;34m.\u001b[0m\u001b[0mdtype\u001b[0m\u001b[0;34m.\u001b[0m\u001b[0mtype\u001b[0m\u001b[0;34m,\u001b[0m \u001b[0;34m(\u001b[0m\u001b[0mnt\u001b[0m\u001b[0;34m.\u001b[0m\u001b[0mfloating\u001b[0m\u001b[0;34m,\u001b[0m \u001b[0mnt\u001b[0m\u001b[0;34m.\u001b[0m\u001b[0minteger\u001b[0m\u001b[0;34m)\u001b[0m\u001b[0;34m)\u001b[0m\u001b[0;34m:\u001b[0m\u001b[0;34m\u001b[0m\u001b[0;34m\u001b[0m\u001b[0m\n",
      "\u001b[0;31mKeyboardInterrupt\u001b[0m: "
     ]
    }
   ],
   "source": [
    "root_dir = '/Users/yehudadicker/Library/Mobile Documents/com~apple~CloudDocs/Penn_Research'  # Replace with the path to your main directory\n",
    "#institutions = ['Penn', 'CWRU', 'NYU', 'TJU', 'OSU', 'RH']\n",
    "institutions = ['Penn']\n",
    "\n",
    "for inst in institutions:\n",
    "    \n",
    "    # Baseline dir in each institution \n",
    "    baseline_dir = os.path.join(root_dir, inst, 'Baseline')\n",
    "\n",
    "    # Dir we're creating for scaling in root dir\n",
    "    robust_scaled_baseline_dir = os.path.join(root_dir, 'Robust_Scaled_v2')\n",
    "\n",
    "    # Institution dirs we're creating within Min_Max_Scaled_Baseline\n",
    "    robust_inst_dir = os.path.join(root_dir, robust_scaled_baseline_dir, inst)\n",
    "\n",
    "    os.makedirs(robust_scaled_baseline_dir, exist_ok=True)\n",
    "    os.makedirs(robust_inst_dir, exist_ok=True)\n",
    "\n",
    "    # Process baseline images with RobustScaler\n",
    "    baseline_files = glob.glob(f\"{baseline_dir}/*.nii.gz\")\n",
    "    for file in baseline_files:\n",
    "        extracted_file = file[:-3]\n",
    "        extract_gz_file(file, extracted_file)\n",
    "        scale_whole_image(extracted_file, robust_inst_dir, RobustScaler())"
   ]
  },
  {
   "cell_type": "code",
   "execution_count": null,
   "metadata": {},
   "outputs": [],
   "source": []
  }
 ],
 "metadata": {
  "kernelspec": {
   "display_name": "base",
   "language": "python",
   "name": "python3"
  },
  "language_info": {
   "codemirror_mode": {
    "name": "ipython",
    "version": 3
   },
   "file_extension": ".py",
   "mimetype": "text/x-python",
   "name": "python",
   "nbconvert_exporter": "python",
   "pygments_lexer": "ipython3",
   "version": "3.9.7"
  }
 },
 "nbformat": 4,
 "nbformat_minor": 2
}
