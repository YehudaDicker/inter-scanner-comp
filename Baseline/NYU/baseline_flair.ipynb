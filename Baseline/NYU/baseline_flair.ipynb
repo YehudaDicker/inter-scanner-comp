{
 "cells": [
  {
   "cell_type": "code",
   "execution_count": 1,
   "metadata": {},
   "outputs": [
    {
     "data": {
      "image/png": "[encoded data removed]",
      "text/plain": [
       "<Figure size 640x480 with 1 Axes>"
      ]
     },
     "metadata": {},
     "output_type": "display_data"
    },
    {
     "data": {
      "text/plain": [
       "<Figure size 640x480 with 0 Axes>"
      ]
     },
     "metadata": {},
     "output_type": "display_data"
    }
   ],
   "source": [
    "import numpy as np\n",
    "import nibabel as nib\n",
    "import os\n",
    "import matplotlib.pyplot as plt\n",
    "import glob\n",
    "import gzip\n",
    "import shutil\n",
    "\n",
    "# Directories for T1 and segmented images\n",
    "baseline_dir = '/Users/yehudadicker/Library/Mobile Documents/com~apple~CloudDocs/Penn_Research/NYU/Baseline/'\n",
    "seg_dir = '/Users/yehudadicker/Library/Mobile Documents/com~apple~CloudDocs/Penn_Research/NYU/Seg/'\n",
    "\n",
    "# Getting all T1 .gz files\n",
    "t1_gz_files = glob.glob(f\"{baseline_dir}*flair*.gz\")\n",
    "\n",
    "# Initialize an empty list to hold all edema T1 values from all images\n",
    "all_edema_t1_values = []\n",
    "\n",
    "for t1_gz_file in t1_gz_files:\n",
    "    t1_file = t1_gz_file[:-3]  # Expected .nii file name after extraction\n",
    "\n",
    "    # If the .nii file does not exist, extract the .gz file\n",
    "    if not os.path.exists(t1_file):\n",
    "        with gzip.open(t1_gz_file, 'rb') as f_in:\n",
    "            with open(t1_file, 'wb') as f_out:\n",
    "                shutil.copyfileobj(f_in, f_out)\n",
    "\n",
    "    # Constructing the segmented file path based on the T1 file name\n",
    "    file_name_parts = os.path.basename(t1_file).split('_')\n",
    "    segmented_file_name = f\"{file_name_parts[0]}_{file_name_parts[1]}_LPS_rSRI_segmF.nii\"\n",
    "    segmented_file = os.path.join(seg_dir, segmented_file_name)\n",
    "\n",
    "    # If the segmented .nii file does not exist, but the .gz does, extract it\n",
    "    if not os.path.exists(segmented_file):\n",
    "        segmented_gz_file = segmented_file + '.gz'\n",
    "        if os.path.exists(segmented_gz_file):\n",
    "            with gzip.open(segmented_gz_file, 'rb') as f_in:\n",
    "                with open(segmented_file, 'wb') as f_out:\n",
    "                    shutil.copyfileobj(f_in, f_out)\n",
    "        else:\n",
    "            print(f\"Segmented file and gz for {segmented_file_name} not found.\")\n",
    "            continue\n",
    "\n",
    "    try:\n",
    "        # Load the T1 MRI and segmented image files\n",
    "        t1_img = nib.load(t1_file)\n",
    "        segmented_img = nib.load(segmented_file)\n",
    "\n",
    "        # Get the data arrays from the loaded images\n",
    "        t1_data = t1_img.get_fdata()\n",
    "        segmented_data = segmented_img.get_fdata()\n",
    "\n",
    "        # Extract the T1 MRI values within the edema region (label 2)\n",
    "        edema_t1_values = t1_data[segmented_data == 2]\n",
    "        all_edema_t1_values.extend(edema_t1_values)\n",
    "\n",
    "    except (OSError, EOFError) as e:\n",
    "        print(f\"Error reading file {t1_file}: {e}\")\n",
    "        continue  # Skip to the next file\n",
    "\n",
    "# Bin sizes\n",
    "bin_sizes = [150]\n",
    "\n",
    "# Filter out values above 1200\n",
    "all_edema_t1_values = [x for x in all_edema_t1_values if x <= 1300]\n",
    "\n",
    "for bin_size in bin_sizes:\n",
    "    # Plot the histogram of T1 MRI for all images with the current bin size\n",
    "    plt.hist(all_edema_t1_values, bins=bin_size, alpha=0.5, label=f'All Regions - {bin_size} Bins')\n",
    "\n",
    "    # Add labels and legend to the histogram plot\n",
    "    plt.xlabel('FLAIR MRI Intensity')\n",
    "    plt.ylabel('Frequency')\n",
    "    plt.legend()\n",
    "\n",
    "    # Set the upper limit of the x-axis to 1200\n",
    "    plt.xlim(right=1300)  # This line is added\n",
    "\n",
    "    # Show the histogram plot\n",
    "    plt.show()\n",
    "\n",
    "    # Clear the current plot to start fresh for the next bin size\n",
    "    plt.clf()\n"
   ]
  }
 ],
 "metadata": {
  "kernelspec": {
   "display_name": "Python 3",
   "language": "python",
   "name": "python3"
  },
  "language_info": {
   "codemirror_mode": {
    "name": "ipython",
    "version": 3
   },
   "file_extension": ".py",
   "mimetype": "text/x-python",
   "name": "python",
   "nbconvert_exporter": "python",
   "pygments_lexer": "ipython3",
   "version": "3.10.2"
  },
  "orig_nbformat": 4
 },
 "nbformat": 4,
 "nbformat_minor": 2
}
